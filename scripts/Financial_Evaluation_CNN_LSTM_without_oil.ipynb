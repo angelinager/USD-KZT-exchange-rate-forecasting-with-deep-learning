{
 "cells": [
  {
   "cell_type": "code",
   "execution_count": 2,
   "metadata": {
    "colab": {},
    "colab_type": "code",
    "id": "FOwb13TTAxXw"
   },
   "outputs": [],
   "source": [
    "import pandas as pd\n",
    "#from ta import *\n",
    "import matplotlib.pyplot as plt\n",
    "\n",
    "import numpy as np\n",
    "import math\n",
    "from math import sqrt \n",
    "import datetime\n",
    "\n",
    "import os\n",
    "os.chdir('../data/')\n",
    "\n",
    "# Read USD/KZT prices\n",
    "df = pd.read_csv(\"USD_KZT Historical Data.csv\", header=0, parse_dates=[0], index_col=0)\n",
    "df = df.rename(columns={\"Price\":\"Close\"})\n",
    "df = df.iloc[::-1]\n",
    "\n",
    "# Read oil prices\n",
    "oil = pd.read_csv(\"Brent Oil Futures Historical Data.csv\", header=0,parse_dates=[0], index_col=0,)\n",
    "oil = oil.iloc[::-1]\n",
    "\n",
    "# Add oilprice as a new column into KZT/USD dataframe\n",
    "df['Oilprice'] = oil['Price'].asof(df.index)\n",
    "\n",
    "# Fill nan values with 0, min value or first non-nan value\n",
    "#df['Oilprice'] = df['Oilprice'].fillna(df['Oilprice'].min())\n",
    "df['Oilprice'] = df['Oilprice'].fillna(df['Oilprice'][1])\n"
   ]
  },
  {
   "cell_type": "code",
   "execution_count": null,
   "metadata": {},
   "outputs": [],
   "source": [
    "# If you want to split by years 2009-2014 - train, 2015 test\n",
    "\n",
    "# Prepare test set and train set\n",
    "train_end = datetime.datetime(2015, 1, 1)\n",
    "test_end = datetime.datetime(2016, 1, 1)\n",
    "\n",
    "#df['Index'] = range(0, len(df))\n",
    "# s = pd.Series(range(0, len(df)))\n",
    "df['Date'] = df.index\n",
    "df.reset_index(drop=True)\n",
    "\n",
    "train_df = df.loc[df.Date < train_end] \n",
    "test_df = df.loc[(df.Date >= train_end) & (df.Date < test_end)]\n",
    "\n",
    "price_train, price_test = np.array(train_df['Close']), np.array(test_df['Close'])\n",
    "oil_train, oil_test = np.array(train_df['Oilprice']), np.array(test_df['Oilprice'])\n",
    "\n",
    "price_train = price_train.reshape((len(price_train), 1))\n",
    "oil_train = oil_train.reshape((len(oil_train), 1))\n",
    "\n",
    "price_test = price_test.reshape((len(price_test), 1))\n",
    "oil_test = oil_test.reshape((len(oil_test), 1))\n",
    "\n",
    "# horizontally stack columns\n",
    "train_data = np.hstack((price_train, oil_train))\n",
    "test_data = np.hstack((price_test, oil_test))"
   ]
  },
  {
   "cell_type": "code",
   "execution_count": 4,
   "metadata": {
    "colab": {
     "base_uri": "https://localhost:8080/",
     "height": 51
    },
    "colab_type": "code",
    "id": "HYPqz_vuA1_w",
    "outputId": "e3777ef8-23e9-4684-f2ab-cb608a999ab6"
   },
   "outputs": [
    {
     "name": "stdout",
     "output_type": "stream",
     "text": [
      "2227 557\n",
      "2227 557\n"
     ]
    }
   ],
   "source": [
    "# If you want to split your data 80/20\n",
    "\n",
    "price = np.array(df['Close'])\n",
    "oil = np.array(df['Oilprice'])\n",
    "\n",
    "train_size = int(len(price)*0.8)\n",
    "test_size = len(price) - train_size\n",
    "\n",
    "train_index = np.arange(0, train_size)\n",
    "test_index = np.arange(train_size, len(price))\n",
    "\n",
    "price_train, price_test = price[train_index], price[test_index]\n",
    "oil_train, oil_test = oil[train_index], oil[test_index]\n",
    "print(len(price_train), len(price_test))\n",
    "print(len(oil_train), len(oil_test))\n",
    "\n",
    "# # convert to [rows, columns] structure\n",
    "price_train = price_train.reshape((len(price_train), 1))\n",
    "oil_train = oil_train.reshape((len(oil_train), 1))\n",
    "\n",
    "price_test = price_test.reshape((len(price_test), 1))\n",
    "oil_test = oil_test.reshape((len(oil_test), 1))\n",
    "\n",
    "# # # horizontally stack columns\n",
    "# train_data = np.hstack((price_train, oil_train))\n",
    "# test_data = np.hstack((price_test, oil_test))\n",
    "\n",
    "train_data = np.hstack((price_train))\n",
    "test_data = np.hstack((price_test))"
   ]
  },
  {
   "cell_type": "code",
   "execution_count": 5,
   "metadata": {
    "colab": {},
    "colab_type": "code",
    "id": "mzoREwt0A2Be"
   },
   "outputs": [
    {
     "name": "stderr",
     "output_type": "stream",
     "text": [
      "Using TensorFlow backend.\n"
     ]
    }
   ],
   "source": [
    "\n",
    "from keras.models import Sequential\n",
    "from keras.layers import LSTM\n",
    "from keras.layers import Dense\n",
    "from keras.layers import Flatten\n",
    "from keras.layers import ConvLSTM2D\n",
    "from keras.layers import Bidirectional\n",
    "import time\n",
    "from sklearn.preprocessing import MinMaxScaler\n",
    "from keras.layers import TimeDistributed\n",
    "from keras.layers.convolutional import Conv1D\n",
    "from keras.layers.convolutional import MaxPooling1D\n",
    "\n",
    "\n",
    "# split a multivariate sequence into samples\n",
    "def split_data(sequences, n_steps):\n",
    "    X, y = list(), list()\n",
    "    for i in range(len(sequences)):\n",
    "        # find the end of this pattern\n",
    "        end_ix = i + n_steps\n",
    "        # check if we are beyond the dataset\n",
    "        if end_ix > len(sequences)-1:\n",
    "            break\n",
    "        # gather input and output parts of the pattern\n",
    "        seq_x, seq_y = sequences[i:end_ix], sequences[end_ix]\n",
    "        X.append(seq_x)\n",
    "        y.append(seq_y)\n",
    "    return np.array(X), np.array(y)\n",
    "\n",
    "# Choose a number of time steps for look back\n",
    "n_steps = 10\n",
    "\n",
    "X_train, y_train = split_data(train_data, n_steps)\n",
    "n_features = X_train.shape[1]\n",
    "\n",
    "X_test, y_test = split_data(test_data, n_steps)\n",
    "\n",
    "# # # Bidirectional LSTM\n",
    "# model = Sequential()\n",
    "# model.add(Bidirectional(LSTM(36, activation='relu'), input_shape=(n_steps, n_features)))\n",
    "# model.add(Dense(1))\n",
    "# model.compile(optimizer='adam',  loss='mse', metrics=['mae', 'mape'])  # loss='mse'\n",
    "\n",
    "# CNN + LSTM\n",
    "# reshape from [samples, timesteps] into [samples, subsequences, timesteps, features]\n",
    "n_features = 1 # because Price and Oil Price\n",
    "n_seq = 2\n",
    "n_steps = 5\n",
    "\n",
    "X_train = X_train.reshape((X_train.shape[0], n_seq, n_steps, n_features))\n",
    "X_test = X_test.reshape((X_test.shape[0], n_seq, n_steps, n_features))\n",
    "\n",
    "model = Sequential()\n",
    "model.add(TimeDistributed(Conv1D(filters=36, kernel_size=1, activation='relu'), input_shape=(None, n_steps, n_features)))\n",
    "model.add(TimeDistributed(MaxPooling1D(pool_size=2)))\n",
    "model.add(TimeDistributed(Flatten()))\n",
    "model.add(LSTM(36, activation='relu'))\n",
    "model.add(Dense(1))  # because Price and Oil Price\n",
    "model.compile(loss='mean_squared_error', optimizer='adam',metrics=[\"mae\",\"mape\"])\n",
    "\n",
    "#### \n",
    "\n",
    "model.fit(X_train, y_train, epochs=40, batch_size=40, verbose=0)\n",
    "\n",
    "training_scores = model.evaluate(X_train, y_train, verbose=0)\n",
    "testing_scores= model.evaluate(X_test, y_test, verbose=0)\n",
    "\n",
    "train_prediction = model.predict(X_train)\n",
    "test_prediction = model.predict(X_test)"
   ]
  },
  {
   "cell_type": "code",
   "execution_count": 9,
   "metadata": {
    "colab": {},
    "colab_type": "code",
    "id": "gdjU8_pGA2ES"
   },
   "outputs": [],
   "source": [
    "data_X=np.concatenate((X_train, X_test))\n",
    "data_y=np.concatenate((y_train, y_test))"
   ]
  },
  {
   "cell_type": "code",
   "execution_count": null,
   "metadata": {
    "colab": {
     "base_uri": "https://localhost:8080/",
     "height": 1000
    },
    "colab_type": "code",
    "id": "hVnxIdzdBJKF",
    "outputId": "b221f592-df73-413c-9a4f-f4a1d0f641c6"
   },
   "outputs": [
    {
     "name": "stdout",
     "output_type": "stream",
     "text": [
      "Test data point 0\n",
      "Test data point 1\n",
      "Test data point 2\n",
      "Test data point 3\n",
      "Test data point 4\n",
      "Test data point 5\n",
      "Test data point 6\n"
     ]
    }
   ],
   "source": [
    "errs=[]\n",
    "err=0.0\n",
    "start_time = time.time()\n",
    "predicted=[]\n",
    "finance=0.0\n",
    "for i in range(len(X_test)):\n",
    "    print(\"Test data point \"+str(i))\n",
    "    model.fit(data_X[0:len(X_train)+i], data_y[0:len(y_train)+i], epochs=40, batch_size=40, verbose=0)\n",
    "    err = model.evaluate(elX,elY, verbose=0)\n",
    "    errs.append(err)  \n",
    "    elX=X_test[i:i+1]\n",
    "    elY=y_test[i:i+1]\n",
    "    predicted.append(model.predict(X_test[i:i+1])[0][0])\n",
    "    \n",
    "elapsed_time = time.time() - start_time\n",
    "print(\"Time for training:\", elapsed_time, \"seconds\")"
   ]
  },
  {
   "cell_type": "code",
   "execution_count": 0,
   "metadata": {
    "colab": {},
    "colab_type": "code",
    "id": "PkrwfKl0BJM5"
   },
   "outputs": [],
   "source": [
    "X_test[0][1][4][0]\n",
    "dollar=10000;\n",
    "tenge=3000000\n",
    "pair=[]\n",
    "pair.append([dollar, tenge])"
   ]
  },
  {
   "cell_type": "code",
   "execution_count": 0,
   "metadata": {
    "colab": {},
    "colab_type": "code",
    "id": "RqIdZVuGBJSd"
   },
   "outputs": [],
   "source": [
    "def threshfn(thresh):\n",
    "    # print(thresh)\n",
    "    x=data_X[len(X_train)][1][4][0]\n",
    "    dollar=10000;\n",
    "    tenge=3000000\n",
    "    pair=[]\n",
    "    pair.append([dollar, tenge])\n",
    "    for i in range(len(predicted)):\n",
    "    x=data_X[len(X_train)+i][1][4][0]\n",
    "    pred=predicted[i]\n",
    "    #print((pred-x)/x)\n",
    "    if((pred-x)/x>thresh):\n",
    "        dollar+=tenge*0.2/x\n",
    "        tenge=tenge*0.8\n",
    "        pair.append([dollar, tenge])\n",
    "    elif((pred-x)/x<-thresh):\n",
    "        tenge+=dollar*0.2*x\n",
    "        dollar=dollar*0.8\n",
    "        pair.append([dollar, tenge])\n",
    "#print(pair[0][0]+pair[0][1]/test_X2[0][9][0])\n",
    "aa=pair[len(pair)-1][0]+pair[len(pair)-1][1]/data_X[len(X_train)+len(X_test)-1][1][4][0]\n",
    "#print(aa)\n",
    "return aa"
   ]
  },
  {
   "cell_type": "code",
   "execution_count": 0,
   "metadata": {
    "colab": {},
    "colab_type": "code",
    "id": "HT-dSUumBJVX"
   },
   "outputs": [],
   "source": [
    "threshs2=np.linspace(0,0.03,1000)\n",
    "outputs2=[]"
   ]
  },
  {
   "cell_type": "code",
   "execution_count": 0,
   "metadata": {
    "colab": {
     "base_uri": "https://localhost:8080/",
     "height": 295
    },
    "colab_type": "code",
    "id": "JmSFFq6VBJYW",
    "outputId": "b4c5bfd2-e7fa-48a9-a7fa-fc199faf7309"
   },
   "outputs": [
    {
     "data": {
      "image/png": "[encoded data removed]",
      "text/plain": [
       "<Figure size 432x288 with 1 Axes>"
      ]
     },
     "metadata": {
      "tags": []
     },
     "output_type": "display_data"
    }
   ],
   "source": [
    "for thr in threshs2:\n",
    "    outputs2.append(threshfn(thr))\n",
    "plt.plot(threshs2,outputs2)\n",
    "plt.xlabel(\"Thesholds\")\n",
    "plt.ylabel(\"Total Money\")\n",
    "plt.title(\"Optimum threshold\")\n",
    "plt.show()"
   ]
  },
  {
   "cell_type": "code",
   "execution_count": 0,
   "metadata": {
    "colab": {
     "base_uri": "https://localhost:8080/",
     "height": 34
    },
    "colab_type": "code",
    "id": "bFiJjwoVBJbL",
    "outputId": "6afccc09-d6fb-4f34-fdc6-bc2051d6f755"
   },
   "outputs": [
    {
     "name": "stdout",
     "output_type": "stream",
     "text": [
      "The Optimum Threshold:  0.015165165165165164\n"
     ]
    }
   ],
   "source": [
    "print(\"The Optimum Threshold: \", threshs2[outputs2.index(max(outputs2[:]))])"
   ]
  },
  {
   "cell_type": "code",
   "execution_count": 0,
   "metadata": {
    "colab": {
     "base_uri": "https://localhost:8080/",
     "height": 34
    },
    "colab_type": "code",
    "id": "XcUZP2IGcRTc",
    "outputId": "29ff1c2c-e23b-4139-c6be-944859d254a5"
   },
   "outputs": [
    {
     "name": "stdout",
     "output_type": "stream",
     "text": [
      "initial capital: 19191.598878624936\n"
     ]
    }
   ],
   "source": [
    "print(\"initial capital:\", pair[0][0]+pair[0][1]/data_X[len(X_train)][1][4][0])"
   ]
  },
  {
   "cell_type": "code",
   "execution_count": 0,
   "metadata": {
    "colab": {
     "base_uri": "https://localhost:8080/",
     "height": 34
    },
    "colab_type": "code",
    "id": "DrNsOoa6BJeC",
    "outputId": "19b5d055-f690-4e74-f53e-a0ee9806803a"
   },
   "outputs": [
    {
     "name": "stdout",
     "output_type": "stream",
     "text": [
      "The capital at the optimum threshold:  18227.92409540314\n"
     ]
    }
   ],
   "source": [
    "print(\"The capital at the optimum threshold: \", outputs2[outputs2.index(max(outputs2[:]))])"
   ]
  },
  {
   "cell_type": "code",
   "execution_count": 0,
   "metadata": {
    "colab": {},
    "colab_type": "code",
    "id": "w2mk0z9UBJgo"
   },
   "outputs": [],
   "source": [
    "print(\"number of days tested: \", len(X_test))"
   ]
  },
  {
   "cell_type": "code",
   "execution_count": 0,
   "metadata": {
    "colab": {},
    "colab_type": "code",
    "id": "ydlUF0nqBJjY"
   },
   "outputs": [],
   "source": [
    "print(\"number of days trained: \", len(X_train))"
   ]
  }
 ],
 "metadata": {
  "colab": {
   "name": "CNN LSTM without oil.ipynb",
   "provenance": []
  },
  "kernelspec": {
   "display_name": "Python 3",
   "language": "python",
   "name": "python3"
  },
  "language_info": {
   "codemirror_mode": {
    "name": "ipython",
    "version": 3
   },
   "file_extension": ".py",
   "mimetype": "text/x-python",
   "name": "python",
   "nbconvert_exporter": "python",
   "pygments_lexer": "ipython3",
   "version": "3.7.4"
  }
 },
 "nbformat": 4,
 "nbformat_minor": 1
}
